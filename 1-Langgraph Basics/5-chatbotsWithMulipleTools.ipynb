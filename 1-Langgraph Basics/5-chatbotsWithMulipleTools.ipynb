{
 "cells": [
  {
   "cell_type": "code",
   "execution_count": 67,
   "metadata": {},
   "outputs": [],
   "source": [
    "from langchain_community.tools import ArxivQueryRun,WikipediaQueryRun\n",
    "from langchain_community.utilities import WikipediaAPIWrapper,ArxivAPIWrapper\n",
    "\n",
    "api_wrapper_arxiv = ArxivAPIWrapper(top_k_results=2,doc_content_chars_max=1000)\n",
    "arxiv = ArxivQueryRun(api_wrapper=api_wrapper_arxiv)\n",
    "\n",
    "api_wrapper_wiki = WikipediaAPIWrapper(top_k_results=2,doc_content_chars_max=1000)\n",
    "wiki = WikipediaQueryRun(api_wrapper=api_wrapper_wiki)\n",
    "\n",
    "# wiki.invoke(\"What is Machine learning\")"
   ]
  },
  {
   "cell_type": "code",
   "execution_count": 83,
   "metadata": {},
   "outputs": [],
   "source": [
    "from dotenv import load_dotenv\n",
    "load_dotenv()\n",
    "\n",
    "import os\n",
    "os.environ['GROQ_API_KEY'] = os.getenv('GROQ_API_KEY')\n",
    "os.environ['TAVILY_API_KEY'] = os.getenv('TAVILY_API_KEY')\n",
    "\n",
    "from langchain_groq import ChatGroq\n",
    "\n",
    "llm_groq = ChatGroq(model=\"qwen-qwq-32b\")"
   ]
  },
  {
   "cell_type": "code",
   "execution_count": 69,
   "metadata": {},
   "outputs": [],
   "source": [
    "from langchain_tavily import TavilySearch\n",
    "\n",
    "tavily = TavilySearch()\n",
    "\n",
    "# tavily.invoke(\"Give me latest Gen AI news\")"
   ]
  },
  {
   "cell_type": "code",
   "execution_count": 84,
   "metadata": {},
   "outputs": [],
   "source": [
    "tools = [arxiv,wiki,tavily]\n",
    "\n",
    "llm_with_tools = llm_groq.bind_tools(tools=tools)"
   ]
  },
  {
   "cell_type": "code",
   "execution_count": 85,
   "metadata": {},
   "outputs": [
    {
     "data": {
      "text/plain": [
       "[{'name': 'wikipedia',\n",
       "  'args': {'query': 'Machine Learning'},\n",
       "  'id': '39xtcgkpz',\n",
       "  'type': 'tool_call'}]"
      ]
     },
     "execution_count": 85,
     "metadata": {},
     "output_type": "execute_result"
    }
   ],
   "source": [
    "from langchain_core.messages import AIMessage,HumanMessage\n",
    "\n",
    "response = llm_with_tools.invoke([HumanMessage(content=\"What is machine learning\")])\n",
    "\n",
    "response.tool_calls"
   ]
  },
  {
   "cell_type": "code",
   "execution_count": 44,
   "metadata": {},
   "outputs": [
    {
     "data": {
      "image/png": "[encoded data removed]",
      "text/plain": [
       "<IPython.core.display.Image object>"
      ]
     },
     "metadata": {},
     "output_type": "display_data"
    }
   ],
   "source": [
    "from IPython.display import Image,display\n",
    "from langgraph.graph import StateGraph,START,END\n",
    "from langgraph.prebuilt import ToolNode\n",
    "from langgraph.prebuilt import tools_condition\n",
    "from pydantic import BaseModel\n",
    "from typing import Annotated\n",
    "from langgraph.graph.message import add_messages\n",
    "from langchain_core.messages import AnyMessage\n",
    "from typing_extensions import TypedDict\n",
    "\n",
    "class State(TypedDict):\n",
    "    messages:Annotated[list[AnyMessage],add_messages]\n",
    "\n",
    "\n",
    "def llm_calling_tool(state:State):\n",
    "    return {\"messages\":[llm_with_tools.invoke(state[\"messages\"])]}\n",
    "\n",
    "\n",
    "builder = StateGraph(State)\n",
    "builder.add_node(\"llm_calling_tool\",llm_calling_tool)\n",
    "builder.add_node(\"tools\",ToolNode(tools=tools))\n",
    "\n",
    "builder.add_edge(START,\"llm_calling_tool\")\n",
    "builder.add_conditional_edges(\n",
    "    \"llm_calling_tool\",\n",
    "    # if the latest message (result) from assistant is a tool call -> tools_condition routes to tools\n",
    "    # if the latest message (result) from assistant is not a tool call -> tools_condition routes to END\n",
    "    tools_condition\n",
    ") \n",
    "builder.add_edge(\"tools\",END)\n",
    "\n",
    "graph = builder.compile()\n",
    "\n",
    "display(Image(graph.get_graph().draw_mermaid_png()))"
   ]
  },
  {
   "cell_type": "code",
   "execution_count": 45,
   "metadata": {},
   "outputs": [
    {
     "data": {
      "text/plain": [
       "{'messages': [HumanMessage(content='What is attention is all you need', additional_kwargs={}, response_metadata={}, id='9ddac149-82bd-44d7-8446-536d1ac279c6'),\n",
       "  AIMessage(content='', additional_kwargs={'tool_calls': [{'id': '7756m6f8e', 'function': {'arguments': '{\"query\":\"Attention Is All You Need\"}', 'name': 'arxiv'}, 'type': 'function'}]}, response_metadata={'token_usage': {'completion_tokens': 19, 'prompt_tokens': 1455, 'total_tokens': 1474, 'completion_time': 0.079570836, 'prompt_time': 0.088806014, 'queue_time': 0.053194376, 'total_time': 0.16837685}, 'model_name': 'llama-3.3-70b-versatile', 'system_fingerprint': 'fp_3f3b593e33', 'finish_reason': 'tool_calls', 'logprobs': None}, id='run--a3844a51-63e1-45fe-829f-416543bd191c-0', tool_calls=[{'name': 'arxiv', 'args': {'query': 'Attention Is All You Need'}, 'id': '7756m6f8e', 'type': 'tool_call'}], usage_metadata={'input_tokens': 1455, 'output_tokens': 19, 'total_tokens': 1474}),\n",
       "  ToolMessage(content=\"Published: 2024-07-22\\nTitle: Attention Is All You Need But You Don't Need All Of It For Inference of Large Language Models\\nAuthors: Georgy Tyukin, Gbetondji J-S Dovonon, Jean Kaddour, Pasquale Minervini\\nSummary: The inference demand for LLMs has skyrocketed in recent months, and serving\\nmodels with low latencies remains challenging due to the quadratic input length\\ncomplexity of the attention layers. In this work, we investigate the effect of\\ndropping MLP and attention layers at inference time on the performance of\\nLlama-v2 models. We find that dropping dreeper attention layers only marginally\\ndecreases performance but leads to the best speedups alongside dropping entire\\nlayers. For example, removing 33\\\\% of attention layers in a 13B Llama2 model\\nresults in a 1.8\\\\% drop in average performance over the OpenLLM benchmark. We\\nalso observe that skipping layers except the latter layers reduces performances\\nfor more layers skipped, except for skipping the attention layers.\\n\\nPublished: 2021-0\", name='arxiv', id='ff7788b9-e7b9-49b8-978c-1d8b2b9bd209', tool_call_id='7756m6f8e')]}"
      ]
     },
     "execution_count": 45,
     "metadata": {},
     "output_type": "execute_result"
    }
   ],
   "source": [
    "messages = graph.invoke({\"messages\":HumanMessage(content=\"What is attention is all you need\")})\n",
    "\n",
    "messages"
   ]
  },
  {
   "cell_type": "code",
   "execution_count": 46,
   "metadata": {},
   "outputs": [
    {
     "name": "stdout",
     "output_type": "stream",
     "text": [
      "================================\u001b[1m Human Message \u001b[0m=================================\n",
      "\n",
      "What is attention is all you need\n",
      "==================================\u001b[1m Ai Message \u001b[0m==================================\n",
      "Tool Calls:\n",
      "  arxiv (7756m6f8e)\n",
      " Call ID: 7756m6f8e\n",
      "  Args:\n",
      "    query: Attention Is All You Need\n",
      "=================================\u001b[1m Tool Message \u001b[0m=================================\n",
      "Name: arxiv\n",
      "\n",
      "Published: 2024-07-22\n",
      "Title: Attention Is All You Need But You Don't Need All Of It For Inference of Large Language Models\n",
      "Authors: Georgy Tyukin, Gbetondji J-S Dovonon, Jean Kaddour, Pasquale Minervini\n",
      "Summary: The inference demand for LLMs has skyrocketed in recent months, and serving\n",
      "models with low latencies remains challenging due to the quadratic input length\n",
      "complexity of the attention layers. In this work, we investigate the effect of\n",
      "dropping MLP and attention layers at inference time on the performance of\n",
      "Llama-v2 models. We find that dropping dreeper attention layers only marginally\n",
      "decreases performance but leads to the best speedups alongside dropping entire\n",
      "layers. For example, removing 33\\% of attention layers in a 13B Llama2 model\n",
      "results in a 1.8\\% drop in average performance over the OpenLLM benchmark. We\n",
      "also observe that skipping layers except the latter layers reduces performances\n",
      "for more layers skipped, except for skipping the attention layers.\n",
      "\n",
      "Published: 2021-0\n"
     ]
    }
   ],
   "source": [
    "from pprint import pprint\n",
    "\n",
    "for message in messages[\"messages\"]:\n",
    "    message.pretty_print()"
   ]
  },
  {
   "cell_type": "code",
   "execution_count": 58,
   "metadata": {},
   "outputs": [
    {
     "data": {
      "text/plain": [
       "{'messages': [HumanMessage(content='Give me AI related news today', additional_kwargs={}, response_metadata={}, id='a0244828-5fba-4e6c-a105-40b17bc17d67'),\n",
       "  AIMessage(content='', additional_kwargs={'tool_calls': [{'id': 'rtwjjv9j0', 'function': {'arguments': '{\"query\":\"AI news today\",\"search_depth\":\"basic\",\"time_range\":\"day\",\"topic\":\"news\"}', 'name': 'tavily_search'}, 'type': 'function'}]}, response_metadata={'token_usage': {'completion_tokens': 38, 'prompt_tokens': 1454, 'total_tokens': 1492, 'completion_time': 0.138181818, 'prompt_time': 0.08765424, 'queue_time': 0.052362243, 'total_time': 0.225836058}, 'model_name': 'llama-3.3-70b-versatile', 'system_fingerprint': 'fp_3f3b593e33', 'finish_reason': 'tool_calls', 'logprobs': None}, id='run--581b019b-9c82-4c26-a91b-f262581e9ed9-0', tool_calls=[{'name': 'tavily_search', 'args': {'query': 'AI news today', 'search_depth': 'basic', 'time_range': 'day', 'topic': 'news'}, 'id': 'rtwjjv9j0', 'type': 'tool_call'}], usage_metadata={'input_tokens': 1454, 'output_tokens': 38, 'total_tokens': 1492}),\n",
       "  ToolMessage(content='{\"query\": \"AI news today\", \"follow_up_questions\": null, \"answer\": null, \"images\": [], \"results\": [{\"url\": \"https://www.businesswire.com/news/home/20250625618546/en/Legion-Technologies-Named-AI-based-Workforce-Management-Solution-of-the-Year-in-2025-AI-Breakthrough-Awards-Program\", \"title\": \"Legion Technologies Named “AI-based Workforce Management Solution of the Year” in 2025 AI Breakthrough Awards Program - Business Wire\", \"score\": 0.6175132, \"published_date\": \"Wed, 25 Jun 2025 14:00:00 GMT\", \"content\": \"Legion Technologies Named “AI-based Workforce Management Solution of the Year” in 2025 AI Breakthrough Awards Program **Legion Technologies Named “AI-based Workforce Management Solution of the Year” in 2025 AI Breakthrough Awards Program** REDWOOD CITY, Calif.--(BUSINESS WIRE)--Legion Technologies, an innovator in workforce management, today announced that its Legion AI platform has been named “AI-based Workforce Management Solution of the Year” in the 8 th annual AI Breakthrough Awards program conducted by AI Breakthrough, a leading market intelligence organization that recognizes the top companies, technologies and products in the global Artificial Intelligence (AI) market today. SANTA CLARA, Calif.--(BUSINESS WIRE)--Legion Technologies, an innovator in workforce management, today announced it has been named a winner in the 2025 Artificial Intelligence Excellence Awards, presented by the Business Intelligence Group, for the fourth consecutive year.\", \"raw_content\": null}, {\"url\": \"https://hitconsultant.net/2025/06/25/commure-launches-commure-agents-ai-assistants/\", \"title\": \"Commure Launches AI Assistants with Full EHR Integration - HIT Consultant\", \"score\": 0.5199851, \"published_date\": \"Wed, 25 Jun 2025 19:29:33 GMT\", \"content\": \"–Commure, a leading healthcare technology company, today announced the commercial launch of Commure Agents, AI-powered colleagues built for healthcare. **Commure Launches AI-Powered Agents to Revolutionize Hospital Operations and Care Delivery** Commure is reshaping healthcare operations with its unified, AI-driven platform, designed to streamline workflows, enhance patient experiences, and improve hospital efficiency. By functioning as autopilots rather than traditional AI copilots, Commure Agents minimize the need for manual input, enabling healthcare teams to work more efficiently and focus more time on patient care. Commure Agents are pioneering the shift from AI copilots to autopilots—enabling routine healthcare workflows to run quietly and effectively in the background.” Image 13: Omada Health Launches \\\\\"Nutritional Intelligence\\\\\" with AI Agent OmadaSpark\", \"raw_content\": null}, {\"url\": \"https://www.insurancejournal.com/news/national/2025/06/26/829185.htm\", \"title\": \"Microsoft Sued by Authors Over Use of Books in AI Training - Insurance Journal\", \"score\": 0.48425868, \"published_date\": \"Thu, 26 Jun 2025 05:12:50 GMT\", \"content\": \"Image 1: Insurance Journal - Property Casualty Industry News Their lawsuit, filed in New York federal court on Tuesday, is one of several high-stakes cases brought by authors, news outlets and other copyright holders against tech companies including Meta Platforms, Anthropic and Microsoft-backed OpenAI over alleged misuse of their material in AI training. The complaint against Microsoft came a day after a California federal judge ruled that Anthropic made fair use under U.S. copyright law of authors’ material to train its AI systems but may still be liable for pirating their books. *   **Categories:**National News**Topics:**AI litigation, AI risk, artificial intelligence (AI), copyright infringement, Microsoft #### Insurance News\", \"raw_content\": null}, {\"url\": \"https://www.newsweek.com/nw-ai/ai-impact-awards-2025-science-engineering-2084754\", \"title\": \"AI Impact Awards 2025: The Changing Human Role in Science and Engineering - Newsweek\", \"score\": 0.45885846, \"published_date\": \"Wed, 25 Jun 2025 10:02:01 GMT\", \"content\": \"AI Impact Awards 2025: The Changing Human Role in Science and Engineering - Newsweek Anuj Kapur, the president and CEO of software delivery company CloudBees, said artificial intelligence (AI) will help solve many of humanity\\'s most pressing problems. Image 4: AI Impact Awards: Science and Engineering CloudBees is one of the companies recognized by _Newsweek\\'s_ AI Impact Awards, which highlights companies across a dozen industries that are adopting AI tools to improve both internal and external operations for their business and their clients. Every Cure is the overall winner of _Newsweek\\'s_ AI Impact Awards and it\\'s using AI to advance drug engineering to treat some of the world\\'s rarest and most aggressive diseases. NEWSWEEK.AI - [x] Newsweek AI (Weekly) \", \"raw_content\": null}, {\"url\": \"https://hitconsultant.net/2025/06/25/infinitus-integrates-voice-ai-agents-with-salesforce-health-cloud/\", \"title\": \"Infinitus Integrates Voice AI Agents with Salesforce Health Cloud - - HIT Consultant\", \"score\": 0.42749292, \"published_date\": \"Wed, 25 Jun 2025 20:05:12 GMT\", \"content\": \"Infinitus Integrates Voice AI Agents with Salesforce Health Cloud - Infinitus Integrates Voice AI Agents with Salesforce Health Cloud –**Infinitus Systems Inc.**, the trusted voice AI platform powering more than 100 million minutes of healthcare conversations, today announced an expanded partnership with Salesforce, allowing joint customers to invoke Infinitus’s voice AI agents to complete and automate complex administrative healthcare tasks. –Through this partnership, Salesforce and Infinitus customers can**launch purpose-built healthcare AI agents**through Infinitus’s Agentforce and MuleSoft connectors to verify coverage for drugs, pharmacy, and medical benefits. Salesforce and Infinitus are advancing healthcare efficiency by integrating AI-powered voice solutions directly into Salesforce Health Cloud and Life Sciences Cloud. Image 13: Omada Health Launches \\\\\"Nutritional Intelligence\\\\\" with AI Agent OmadaSpark\", \"raw_content\": null}], \"response_time\": 0.3}', name='tavily_search', id='c257cabf-b1ca-4ea0-9e2a-b1a1a5a04dad', tool_call_id='rtwjjv9j0')]}"
      ]
     },
     "execution_count": 58,
     "metadata": {},
     "output_type": "execute_result"
    }
   ],
   "source": [
    "messages = graph.invoke({\"messages\":HumanMessage(content=\"Give me AI related news today\")})\n",
    "\n",
    "messages\n"
   ]
  },
  {
   "cell_type": "code",
   "execution_count": 59,
   "metadata": {},
   "outputs": [
    {
     "name": "stdout",
     "output_type": "stream",
     "text": [
      "================================\u001b[1m Human Message \u001b[0m=================================\n",
      "\n",
      "Give me AI related news today\n",
      "==================================\u001b[1m Ai Message \u001b[0m==================================\n",
      "Tool Calls:\n",
      "  tavily_search (rtwjjv9j0)\n",
      " Call ID: rtwjjv9j0\n",
      "  Args:\n",
      "    query: AI news today\n",
      "    search_depth: basic\n",
      "    time_range: day\n",
      "    topic: news\n",
      "=================================\u001b[1m Tool Message \u001b[0m=================================\n",
      "Name: tavily_search\n",
      "\n",
      "{\"query\": \"AI news today\", \"follow_up_questions\": null, \"answer\": null, \"images\": [], \"results\": [{\"url\": \"https://www.businesswire.com/news/home/20250625618546/en/Legion-Technologies-Named-AI-based-Workforce-Management-Solution-of-the-Year-in-2025-AI-Breakthrough-Awards-Program\", \"title\": \"Legion Technologies Named “AI-based Workforce Management Solution of the Year” in 2025 AI Breakthrough Awards Program - Business Wire\", \"score\": 0.6175132, \"published_date\": \"Wed, 25 Jun 2025 14:00:00 GMT\", \"content\": \"Legion Technologies Named “AI-based Workforce Management Solution of the Year” in 2025 AI Breakthrough Awards Program **Legion Technologies Named “AI-based Workforce Management Solution of the Year” in 2025 AI Breakthrough Awards Program** REDWOOD CITY, Calif.--(BUSINESS WIRE)--Legion Technologies, an innovator in workforce management, today announced that its Legion AI platform has been named “AI-based Workforce Management Solution of the Year” in the 8 th annual AI Breakthrough Awards program conducted by AI Breakthrough, a leading market intelligence organization that recognizes the top companies, technologies and products in the global Artificial Intelligence (AI) market today. SANTA CLARA, Calif.--(BUSINESS WIRE)--Legion Technologies, an innovator in workforce management, today announced it has been named a winner in the 2025 Artificial Intelligence Excellence Awards, presented by the Business Intelligence Group, for the fourth consecutive year.\", \"raw_content\": null}, {\"url\": \"https://hitconsultant.net/2025/06/25/commure-launches-commure-agents-ai-assistants/\", \"title\": \"Commure Launches AI Assistants with Full EHR Integration - HIT Consultant\", \"score\": 0.5199851, \"published_date\": \"Wed, 25 Jun 2025 19:29:33 GMT\", \"content\": \"–Commure, a leading healthcare technology company, today announced the commercial launch of Commure Agents, AI-powered colleagues built for healthcare. **Commure Launches AI-Powered Agents to Revolutionize Hospital Operations and Care Delivery** Commure is reshaping healthcare operations with its unified, AI-driven platform, designed to streamline workflows, enhance patient experiences, and improve hospital efficiency. By functioning as autopilots rather than traditional AI copilots, Commure Agents minimize the need for manual input, enabling healthcare teams to work more efficiently and focus more time on patient care. Commure Agents are pioneering the shift from AI copilots to autopilots—enabling routine healthcare workflows to run quietly and effectively in the background.” Image 13: Omada Health Launches \\\"Nutritional Intelligence\\\" with AI Agent OmadaSpark\", \"raw_content\": null}, {\"url\": \"https://www.insurancejournal.com/news/national/2025/06/26/829185.htm\", \"title\": \"Microsoft Sued by Authors Over Use of Books in AI Training - Insurance Journal\", \"score\": 0.48425868, \"published_date\": \"Thu, 26 Jun 2025 05:12:50 GMT\", \"content\": \"Image 1: Insurance Journal - Property Casualty Industry News Their lawsuit, filed in New York federal court on Tuesday, is one of several high-stakes cases brought by authors, news outlets and other copyright holders against tech companies including Meta Platforms, Anthropic and Microsoft-backed OpenAI over alleged misuse of their material in AI training. The complaint against Microsoft came a day after a California federal judge ruled that Anthropic made fair use under U.S. copyright law of authors’ material to train its AI systems but may still be liable for pirating their books. *   **Categories:**National News**Topics:**AI litigation, AI risk, artificial intelligence (AI), copyright infringement, Microsoft #### Insurance News\", \"raw_content\": null}, {\"url\": \"https://www.newsweek.com/nw-ai/ai-impact-awards-2025-science-engineering-2084754\", \"title\": \"AI Impact Awards 2025: The Changing Human Role in Science and Engineering - Newsweek\", \"score\": 0.45885846, \"published_date\": \"Wed, 25 Jun 2025 10:02:01 GMT\", \"content\": \"AI Impact Awards 2025: The Changing Human Role in Science and Engineering - Newsweek Anuj Kapur, the president and CEO of software delivery company CloudBees, said artificial intelligence (AI) will help solve many of humanity's most pressing problems. Image 4: AI Impact Awards: Science and Engineering CloudBees is one of the companies recognized by _Newsweek's_ AI Impact Awards, which highlights companies across a dozen industries that are adopting AI tools to improve both internal and external operations for their business and their clients. Every Cure is the overall winner of _Newsweek's_ AI Impact Awards and it's using AI to advance drug engineering to treat some of the world's rarest and most aggressive diseases. NEWSWEEK.AI - [x] Newsweek AI (Weekly) \", \"raw_content\": null}, {\"url\": \"https://hitconsultant.net/2025/06/25/infinitus-integrates-voice-ai-agents-with-salesforce-health-cloud/\", \"title\": \"Infinitus Integrates Voice AI Agents with Salesforce Health Cloud - - HIT Consultant\", \"score\": 0.42749292, \"published_date\": \"Wed, 25 Jun 2025 20:05:12 GMT\", \"content\": \"Infinitus Integrates Voice AI Agents with Salesforce Health Cloud - Infinitus Integrates Voice AI Agents with Salesforce Health Cloud –**Infinitus Systems Inc.**, the trusted voice AI platform powering more than 100 million minutes of healthcare conversations, today announced an expanded partnership with Salesforce, allowing joint customers to invoke Infinitus’s voice AI agents to complete and automate complex administrative healthcare tasks. –Through this partnership, Salesforce and Infinitus customers can**launch purpose-built healthcare AI agents**through Infinitus’s Agentforce and MuleSoft connectors to verify coverage for drugs, pharmacy, and medical benefits. Salesforce and Infinitus are advancing healthcare efficiency by integrating AI-powered voice solutions directly into Salesforce Health Cloud and Life Sciences Cloud. Image 13: Omada Health Launches \\\"Nutritional Intelligence\\\" with AI Agent OmadaSpark\", \"raw_content\": null}], \"response_time\": 0.3}\n"
     ]
    }
   ],
   "source": [
    "for message in messages[\"messages\"]:\n",
    "    message.pretty_print()"
   ]
  },
  {
   "cell_type": "code",
   "execution_count": 86,
   "metadata": {},
   "outputs": [
    {
     "name": "stdout",
     "output_type": "stream",
     "text": [
      "================================\u001b[1m Human Message \u001b[0m=================================\n",
      "\n",
      "What is the use of Python in AI\n",
      "==================================\u001b[1m Ai Message \u001b[0m==================================\n",
      "Tool Calls:\n",
      "  tavily_search (pbry1961d)\n",
      " Call ID: pbry1961d\n",
      "  Args:\n",
      "    query: use of Python in AI\n",
      "    search_depth: advanced\n",
      "    topic: general\n",
      "=================================\u001b[1m Tool Message \u001b[0m=================================\n",
      "Name: tavily_search\n",
      "\n",
      "{\"query\": \"use of Python in AI\", \"follow_up_questions\": null, \"answer\": null, \"images\": [], \"results\": [{\"url\": \"https://djangostars.com/blog/why-python-is-good-for-artificial-intelligence-and-machine-learning/\", \"title\": \"8 Reasons Why Python is Good for AI and ML - Django Stars\", \"content\": \"Frequently Asked Questions\\n\\nHow Python is used in Artificial Intelligence?\\n\\nPython is widely used for AI and ML in fintech, travel, transportation, healthcare, and other industries. This programming language is handy for developing AI that helps analyze large amounts of data and provide more accurate predictions and insights to improve business efficiency, lower production costs, and increase productivity.\\n\\nIs Python is used for machine learning better than Java? [...] Perhaps one of the most successful examples of using Python in AI and ML. Uber developed an ML platform [Michelangelo PyML](https://eng.uber.com/michelangelo-pyml/) using Python. They use it for online and offline predictions solving day-to-day tasks. The Michelangelo PyML is the extension of the initial Michelangelo product which was scalable but not flexible enough. Now, users can validate models with PyML and then replicate them in Michelangelo for full efficiency and scalability. [...] Well, let’s look at how Python is used in artificial intelligence and machine learning.\\n\\nPython offers many features that are helpful for AI and ML in particular, and that makes it the best language for these purposes. No wonder that various industries use Python for predictions and other machine learning tasks.\\n\\nLet’s take a closer look at some examples in:\\n\\n*   Travel;\\n*   Fintech;\\n*   Transportation;\\n*   Healthcare.\\n\\n### Travel\", \"score\": 0.9073207, \"raw_content\": null}, {\"url\": \"https://waverleysoftware.com/blog/python-for-ai-and-ml/\", \"title\": \"Why Use Python for AI and Machine Learning - Waverley\", \"content\": \"In general, Python is used in Artificial Intelligence and Machine Learning by most programmers. Other top competitors include Java, C++, and JavaScript — but Python is considered to be the best programming language for AI, according to [Upwork’s research](https://www.upwork.com/resources/best-ai-programming-language).\\n\\nLet’s compare the major features of the mentioned languages to understand why Python is one of the best choices for AI and ML. [...] Python grants many features helpful for AI and ML in particular, and this makes it the best programming language for AI. Therefore, it’s apparent why various industries and businesses use Python for predictions and Machine Learning tasks. [...] As mentioned above, Python’s diversification of libraries is the key reason why Python is used for AI. A library is a module that is published by various sources, for example, PyPi which includes a pre-written piece of code. All of this allows users to reach some functionality or perform different actions. Python libraries provide base-level items so developers don’t have to code them from the very beginning every time. Regarding ML, it requires continuous data processing, but Python’s\", \"score\": 0.89545894, \"raw_content\": null}, {\"url\": \"https://www.newhorizons.com/resources/blog/why-is-python-used-for-machine-learning\", \"title\": \"6 Reasons Why Is Python Used for Machine Learning - New Horizons\", \"content\": \"### **Python's growth in AI and ML**\\n\\nPython’s extensive library ecosystem, robust visualization capabilities, low barrier to entry, strong community support, flexibility, readability, and platform independence make it an ideal choice for machine learning purposes. As a result, Python has seen a surge in usage in AI and ML applications, including image and speech recognition, predictive analytics, and autonomous vehicles. [...] The growing popularity of Python in AI projects today is not just a coincidence. Its comprehensive library ecosystem and active developer community have made it easier than ever for machine learning professionals to take advantage of Python’s powerful capabilities. With its easy-to-read syntax, extensive libraries, and cross-platform compatibility, Python has become an essential tool for AI and ML developers worldwide.\", \"score\": 0.88822687, \"raw_content\": null}, {\"url\": \"https://www.deeplearning.ai/short-courses/ai-python-for-beginners/\", \"title\": \"AI Python for Beginners - DeepLearning.AI\", \"content\": \"You’ll gain a foundational understanding of Python while using it to build AI-powered tools like custom recipe generators, smart to-do lists, and vacation planners, learning essential programming concepts such as variables, functions, loops, and data structures along the way. As you progress, you’ll work with your own data, extracting valuable insights from text files and structured data, including planning a dream vacation by having AI analyze travel blogs and generate personalized [...] In this course, you’ll learn Python basics while immediately putting them to work in exciting AI applications. Write your first lines of code, understand core programming concepts, and start creating AI-powered tools from day one. You’ll use a Jupyter Notebook environment — the same tool used by engineers and data scientists — and learn to leverage AI assistants to enhance your coding skills. By the end, you’ll be writing Python scripts that interact with large language models, setting the [...] *   Learn Python programming fundamentals and how to integrate AI tools for data manipulation, analysis, and visualization.\\n    \\n*   Discover how Python can be applied in various domains such as business, marketing, and journalism to solve real-world problems and enhance efficiency through practical applications.\\n    \\n*   Leverage AI assistants to debug code, explain concepts, and enhance your learning, mirroring real-world software development practices.\", \"score\": 0.8458536, \"raw_content\": null}, {\"url\": \"https://www.quora.com/Why-do-people-prefer-Python-as-an-AI-language\", \"title\": \"Why do people prefer Python as an AI language? - Quora\", \"content\": \"Majority of the AI experts prefer Python as a programming language, since there are multiple advantages of using python. The first reason to use python is that\", \"score\": 0.8296166, \"raw_content\": null}], \"response_time\": 3.25}\n"
     ]
    }
   ],
   "source": [
    "messages = graph.invoke({\"messages\":HumanMessage(content=\"What is the use of Python in AI\")})\n",
    "\n",
    "for message in messages[\"messages\"]:\n",
    "    message.pretty_print()"
   ]
  },
  {
   "cell_type": "code",
   "execution_count": 88,
   "metadata": {},
   "outputs": [
    {
     "name": "stdout",
     "output_type": "stream",
     "text": [
      "================================\u001b[1m Human Message \u001b[0m=================================\n",
      "\n",
      "How to learn Python for Generative AI\n",
      "==================================\u001b[1m Ai Message \u001b[0m==================================\n",
      "Tool Calls:\n",
      "  tavily_search (amv8p7bq5)\n",
      " Call ID: amv8p7bq5\n",
      "  Args:\n",
      "    query: How to learn Python for Generative AI\n",
      "    search_depth: advanced\n",
      "    topic: general\n",
      "=================================\u001b[1m Tool Message \u001b[0m=================================\n",
      "Name: tavily_search\n",
      "\n",
      "{\"query\": \"How to learn Python for Generative AI\", \"follow_up_questions\": null, \"answer\": null, \"images\": [], \"results\": [{\"url\": \"https://www.dataquest.io/path/generative-ai-fundamentals-skill-track/\", \"title\": \"Generative AI Fundamentals in Python - Dataquest\", \"content\": \"Start building your expertise using generative AI with this Python programming path, designed for anyone who wants to integrate AI capabilities into their work. You’ll begin with the basics of Python for simple tasks, then learn to interact with LLMs via API, understand prompt engineering, and create straightforward automations and applications. Your skills will culminate in the ability to develop functional, AI-powered applications. [...] ## Key skills\\n\\n## Path outline\\n\\n### **Part 1:** Fundamentals of Python and Generative AI [3 courses]\\n\\n### [AI Chatbots: Harnessing the Power of Large Language Models with Chandra](https://www.dataquest.io/course/ai-chatbots-harnessing-the-power-of-large-language-models/) 3h\\n\\n### [Introduction to Python Programming](https://www.dataquest.io/course/introduction-to-python-programming-for-web-development-1/) 4h [...] “The rigor and the concepts were very similar to what I was already learning at the University. Dataquest was the perfect supplement for continuing my learning.”\\n\\n#### Hezekiah Branch\\n\\n### Generative AI Fundamentals in Python\\n\\n## Path overview\\n\\nGain the skills necessary for working with AI, from automating tasks to engaging with LLMs via API in Python, and progress to building AI-driven applications. This path is essential for professionals aiming to integrate AI into their toolkit.\", \"score\": 0.8660535, \"raw_content\": null}, {\"url\": \"https://mahaboob.medium.com/developing-generative-ai-using-python-a-step-by-step-guide-e7bd5b973d7f\", \"title\": \"Developing Generative AI Using Python: A Step-by-Step Guide\", \"content\": \"To begin, ensure that Python is installed on your system. Additionally, install the necessary libraries, including Tensorflow and Keras, by running the appropriate package manager commands. These libraries offer powerful tools for designing and training generative models.\\n\\n**Step 3: Data Preparation** [...] Developing generative AI using Python opens a whole new world of possibilities for creating new and realistic content. By understanding the principles behind generative models, installing the necessary libraries, preparing data, building the model architecture, training the model, and generating new content, you can unlock the capabilities of generative AI. With Python’s extensive ecosystem and powerful libraries, anyone can embark on this exciting journey and explore the fascinating realm of [...] Before diving into coding, it is essential to grasp the underlying principles of generative models. Generative AI aims to generate new content such as images, music, or text by learning patterns and structures from existing datasets. The two main types of generative models widely used today are Generative Adversarial Networks (GANs) and Variational Autoencoders (VAEs).\\n\\n**Step 2: Installing Python and Required Libraries**\", \"score\": 0.8380581, \"raw_content\": null}, {\"url\": \"https://www.coursera.org/learn/building-gen-ai-powered-applications\", \"title\": \"Building Generative AI-Powered Applications with Python - Coursera\", \"content\": \"While a basic understanding of Python is essential, knowledge of HTML, CSS, or JavaScript is helpful but not required. The course includes supporting readings and videos to build foundational knowledge of the models and frameworks used. In addition, a comprehensive course glossary will help reinforce your learning. [...] ### Image Captioning with Generative AI\\n\\nIn this module, you will learn the basics of generative AI models and explore the AI models and data sets using the Hugging Face platform. You will work on a guided project that involves image captioning using Python, the BLIP model, and Gradio. This project will let you build an automated image caption tool using generative AI and implement it for real-world scenarios.\\n\\n#### What's included\\n\\n5 videos2 readings1 assignment2 app items3 plugins [...] In this hands-on course, youâll develop a series of guided projects using Python, Flask, Gradio, and LangChain to create AI-powered applications for practical scenarios, including a voice assistant, a meeting summarizer, a language translator, and a personalized career coach. Youâll work with popular large language models (LLMs) such as GPT-3, Llama 2, and Flan-UL2, hosted on platforms like IBM watsonx and Hugging Face.\", \"score\": 0.75290436, \"raw_content\": null}, {\"url\": \"https://www.udemy.com/course/python-generative-ai-apps/?srsltid=AfmBOoo4uvdY0sc6LF8sjp1t16D9pSxhKXPh4HLsLNMsnRfeOeMANh-b\", \"title\": \"Python for Generative AI Apps : Building Intelligent Systems - Udemy\", \"content\": \"Embark on a transformative journey into the realm of Generative AI with our comprehensive course, \\\"Python for Generative AI: Mastering Intelligent Systems\", \"score\": 0.741169, \"raw_content\": null}, {\"url\": \"https://www.youtube.com/watch?v=-65r_3r-nN4\", \"title\": \"Python Tutorial with Gen AI for 2025 - YouTube\", \"content\": \"Explore the power of Python with our easy-to-follow tutorial! Begin with the basics and move on to object-oriented programming, inheritance, exception handling, and file management. Learn about data structures like arrays, stacks, queues, and linked lists, plus essential algorithms like searching and sorting. Understand how Python is used in machine learning with libraries like NumPy, Pandas, Matplotlib, and Seaborn, and explore the exciting field of Generative AI. Finally, tasks can be\", \"score\": 0.7101667, \"raw_content\": null}], \"response_time\": 2.61}\n"
     ]
    }
   ],
   "source": [
    "messages = graph.invoke({\"messages\":HumanMessage(content=\"How to learn Python for Generative AI\")})\n",
    "\n",
    "for message in messages[\"messages\"]:\n",
    "    message.pretty_print()"
   ]
  }
 ],
 "metadata": {
  "kernelspec": {
   "display_name": ".venv",
   "language": "python",
   "name": "python3"
  },
  "language_info": {
   "codemirror_mode": {
    "name": "ipython",
    "version": 3
   },
   "file_extension": ".py",
   "mimetype": "text/x-python",
   "name": "python",
   "nbconvert_exporter": "python",
   "pygments_lexer": "ipython3",
   "version": "3.13.3"
  }
 },
 "nbformat": 4,
 "nbformat_minor": 2
}

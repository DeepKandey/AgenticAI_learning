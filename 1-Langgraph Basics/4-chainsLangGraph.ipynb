{
 "cells": [
  {
   "cell_type": "code",
   "execution_count": 30,
   "metadata": {},
   "outputs": [],
   "source": [
    "from dotenv import load_dotenv\n",
    "load_dotenv()\n",
    "\n",
    "import os\n",
    "os.environ['OPENAI_API_KEY'] = os.getenv('OPENAI_API_KEY')\n",
    "os.environ['GROQ_API_KEY'] = os.getenv('GROQ_API_KEY')"
   ]
  },
  {
   "cell_type": "code",
   "execution_count": 45,
   "metadata": {},
   "outputs": [
    {
     "name": "stdout",
     "output_type": "stream",
     "text": [
      "==================================\u001b[1m Ai Message \u001b[0m==================================\n",
      "Name: LLModel\n",
      "\n",
      "Please tell me how can I help you?\n",
      "================================\u001b[1m Human Message \u001b[0m=================================\n",
      "Name: Deepak\n",
      "\n",
      "I want to leanrn coding\n",
      "==================================\u001b[1m Ai Message \u001b[0m==================================\n",
      "Name: LLModel\n",
      "\n",
      "Which programming language you want to learn?\n",
      "================================\u001b[1m Human Message \u001b[0m=================================\n",
      "Name: Deepak\n",
      "\n",
      "I want to learn Python for GenAI\n"
     ]
    }
   ],
   "source": [
    "from langchain_core.messages import AIMessage,HumanMessage\n",
    "from pprint import pprint\n",
    "\n",
    "messages = [AIMessage(content=f\"Please tell me how can I help you?\",name=\"LLModel\")]\n",
    "messages.append(HumanMessage(content=f\"I want to leanrn coding\",name=\"Deepak\"))\n",
    "messages.append(AIMessage(content=f\"Which programming language you want to learn?\",name=\"LLModel\"))\n",
    "messages.append(HumanMessage(content=f\"I want to learn Python for GenAI\",name=\"Deepak\"))\n",
    "\n",
    "for message in messages:\n",
    "    message.pretty_print()"
   ]
  },
  {
   "cell_type": "code",
   "execution_count": 49,
   "metadata": {},
   "outputs": [
    {
     "data": {
      "text/plain": [
       "AIMessage(content='Python is a fantastic language for GenAI (Generative AI) and a popular choice among developers and researchers. Here\\'s a step-by-step guide to help you get started:\\n\\n**Prerequisites**\\n\\n1. Basic understanding of programming concepts (variables, data types, loops, conditional statements)\\n2. Familiarity with mathematical concepts (linear algebra, calculus, probability)\\n\\n**Learning Resources**\\n\\n1. **Online Courses**:\\n\\t* Codecademy\\'s Python Course (interactive coding environment)\\n\\t* Python for Everybody (Coursera)\\n\\t* Python Data Structures (Coursera)\\n2. **Books**:\\n\\t* \"Python Crash Course\" by Eric Matthes\\n\\t* \"Automate the Boring Stuff with Python\" by Al Sweigart\\n\\t* \"Python for Data Analysis\" by Wes McKinney\\n3. **Tutorials and Guides**:\\n\\t* Official Python Documentation (python.org)\\n\\t* Real Python (realpython.com)\\n\\t* W3Schools\\' Python Tutorial (w3schools.com)\\n\\n**GenAI-specific Resources**\\n\\n1. **Libraries and Frameworks**:\\n\\t* TensorFlow (tensorflow.org)\\n\\t* PyTorch (pytorch.org)\\n\\t* Keras (keras.io)\\n2. **Tutorials and Guides**:\\n\\t* TensorFlow\\'s GenAI Tutorial (tensorflow.org)\\n\\t* PyTorch\\'s GenAI Tutorial (pytorch.org)\\n\\t* Generative AI with Python (towardsdatascience.com)\\n\\n**Learning Path**\\n\\n1. **Python Basics** (2-3 weeks):\\n\\t* Learn basic Python syntax and data structures\\n\\t* Practice with online exercises and projects\\n2. **Mathematics for GenAI** (2-3 weeks):\\n\\t* Review linear algebra, calculus, and probability concepts\\n\\t* Learn to apply mathematical concepts to GenAI problems\\n3. **GenAI Fundamentals** (4-6 weeks):\\n\\t* Learn about GenAI concepts (e.g., generative models, GANs, VAEs)\\n\\t* Implement simple GenAI models using Python and libraries like TensorFlow or PyTorch\\n4. **Advanced GenAI Topics** (4-6 weeks):\\n\\t* Learn about advanced GenAI techniques (e.g., attention mechanisms, transformer models)\\n\\t* Implement more complex GenAI models and experiment with different architectures\\n\\n**Practice and Projects**\\n\\n1. **Kaggle Competitions**: Participate in GenAI-related competitions to practice and learn from others\\n2. **Personal Projects**: Apply GenAI concepts to real-world problems or personal interests\\n3. **Collaborate with Others**: Join online communities (e.g., GitHub, Reddit) to collaborate with other developers and researchers\\n\\nRemember, learning GenAI with Python is a continuous process. Stay motivated, be patient, and have fun exploring the exciting world of Generative AI!\\n\\nHow\\'s your current level of experience with Python and programming?', additional_kwargs={}, response_metadata={'token_usage': {'completion_tokens': 591, 'prompt_tokens': 81, 'total_tokens': 672, 'completion_time': 2.149090909, 'prompt_time': 0.004119189, 'queue_time': 0.051763240999999995, 'total_time': 2.153210098}, 'model_name': 'llama-3.3-70b-versatile', 'system_fingerprint': 'fp_3f3b593e33', 'finish_reason': 'stop', 'logprobs': None}, id='run--bbb94c43-ce90-4f6e-a720-5771cfb35ce6-0', usage_metadata={'input_tokens': 81, 'output_tokens': 591, 'total_tokens': 672})"
      ]
     },
     "execution_count": 49,
     "metadata": {},
     "output_type": "execute_result"
    }
   ],
   "source": [
    "from langchain_groq import ChatGroq\n",
    "\n",
    "llm_groq = ChatGroq(model=\"llama-3.3-70b-versatile\")\n",
    "llm_groq.invoke(messages)"
   ]
  },
  {
   "cell_type": "code",
   "execution_count": 37,
   "metadata": {},
   "outputs": [],
   "source": [
    "def add(a:int,b:int)-> int:\n",
    "    \"\"\" Add a and b\n",
    "    Args:\n",
    "         a (int): first input\n",
    "         b (int): second input\n",
    "\n",
    "    Returns:\n",
    "         int \n",
    "    \"\"\"\n",
    "    return a+b"
   ]
  },
  {
   "cell_type": "code",
   "execution_count": 50,
   "metadata": {},
   "outputs": [
    {
     "data": {
      "text/plain": [
       "AIMessage(content='', additional_kwargs={'tool_calls': [{'id': '9nc1h9cn2', 'function': {'arguments': '{\"a\":2,\"b\":15}', 'name': 'add'}, 'type': 'function'}]}, response_metadata={'token_usage': {'completion_tokens': 15, 'prompt_tokens': 258, 'total_tokens': 273, 'completion_time': 0.054545455, 'prompt_time': 0.013198673, 'queue_time': 0.051896316000000005, 'total_time': 0.067744128}, 'model_name': 'llama-3.3-70b-versatile', 'system_fingerprint': 'fp_3f3b593e33', 'finish_reason': 'tool_calls', 'logprobs': None}, id='run--98fa0f1e-d926-4ccd-b7e4-895f8ba4ae67-0', tool_calls=[{'name': 'add', 'args': {'a': 2, 'b': 15}, 'id': '9nc1h9cn2', 'type': 'tool_call'}], usage_metadata={'input_tokens': 258, 'output_tokens': 15, 'total_tokens': 273})"
      ]
     },
     "execution_count": 50,
     "metadata": {},
     "output_type": "execute_result"
    }
   ],
   "source": [
    "### binding tool with llm\n",
    "\n",
    "llm_with_tools = llm_groq.bind_tools([add])\n",
    "tool_call = llm_with_tools.invoke([HumanMessage(content=f\"What is 2 plus 15\",name=\"Deepak\")])\n",
    "\n",
    "tool_call"
   ]
  },
  {
   "cell_type": "code",
   "execution_count": 39,
   "metadata": {},
   "outputs": [
    {
     "data": {
      "text/plain": [
       "[{'name': 'add',\n",
       "  'args': {'a': 2, 'b': 15},\n",
       "  'id': 'rzyfdfqce',\n",
       "  'type': 'tool_call'}]"
      ]
     },
     "execution_count": 39,
     "metadata": {},
     "output_type": "execute_result"
    }
   ],
   "source": [
    "tool_call.tool_calls"
   ]
  },
  {
   "cell_type": "code",
   "execution_count": 51,
   "metadata": {},
   "outputs": [
    {
     "data": {
      "text/plain": [
       "AIMessage(content='Generative AI refers to a type of artificial intelligence that is capable of generating new, original content, such as text, images, music, or videos, based on a given set of parameters or inputs. This is achieved through the use of complex algorithms and machine learning models, such as generative adversarial networks (GANs) and variational autoencoders (VAEs), which are trained on large datasets and can learn patterns and relationships within the data.\\n\\nGenerative AI has many potential applications, including:\\n\\n1. Art and design: Generative AI can be used to create original artwork, music, and other creative content.\\n2. Data augmentation: Generative AI can be used to generate new data samples that can be used to augment existing datasets, potentially improving the accuracy of machine learning models.\\n3. Content generation: Generative AI can be used to generate text, such as articles, stories, or dialogues, or to create videos, such as animations or special effects.\\n4. Personalization: Generative AI can be used to generate personalized content, such as product recommendations or personalized advertisements.\\n\\nSome examples of generative AI include:\\n\\n1. DeepDream: A computer vision program that uses a neural network to generate surreal and dreamlike images.\\n2. Prisma: An app that uses AI to transform photos into works of art in the style of famous artists.\\n3. Amper Music: An AI music composition platform that allows users to create original music tracks in minutes.\\n4. Language models: Such as those used in chatbots and virtual assistants, which can generate human-like text based on a given prompt or input.\\n\\nOverall, generative AI has the potential to revolutionize many industries and applications, and is an exciting and rapidly evolving field of research and development.', additional_kwargs={}, response_metadata={'token_usage': {'completion_tokens': 357, 'prompt_tokens': 256, 'total_tokens': 613, 'completion_time': 2.16022608, 'prompt_time': 0.013160094, 'queue_time': 0.057276751, 'total_time': 2.173386174}, 'model_name': 'llama-3.3-70b-versatile', 'system_fingerprint': 'fp_3f3b593e33', 'finish_reason': 'stop', 'logprobs': None}, id='run--44f9e68b-a3cc-4f17-b44a-2cce67fa89fb-0', usage_metadata={'input_tokens': 256, 'output_tokens': 357, 'total_tokens': 613})"
      ]
     },
     "execution_count": 51,
     "metadata": {},
     "output_type": "execute_result"
    }
   ],
   "source": [
    "### binding tool with llm\n",
    "\n",
    "llm_with_tools = llm_groq.bind_tools([add])\n",
    "tool_call = llm_with_tools.invoke([HumanMessage(content=f\"What is Generative AI\",name=\"Deepak\")])\n",
    "\n",
    "tool_call"
   ]
  },
  {
   "cell_type": "code",
   "execution_count": 8,
   "metadata": {},
   "outputs": [],
   "source": [
    "from typing_extensions import TypedDict\n",
    "from langchain_core.messages import AnyMessage\n",
    "from langgraph.graph.message import add_messages\n",
    "from typing import Annotated\n",
    "\n",
    "class State(TypedDict):\n",
    "    messages:Annotated[list[AnyMessage],add_messages]\n",
    "\n",
    "# list, tuple, dictionary"
   ]
  },
  {
   "cell_type": "code",
   "execution_count": 9,
   "metadata": {},
   "outputs": [],
   "source": [
    "# chatbot node functionality\n",
    "\n",
    "def llm_tool(state:State):\n",
    "    return {\"messages\":[llm_with_tools.invoke(state[\"messages\"])]}"
   ]
  },
  {
   "cell_type": "code",
   "execution_count": 10,
   "metadata": {},
   "outputs": [
    {
     "data": {
      "image/png": "[encoded data removed]",
      "text/plain": [
       "<IPython.core.display.Image object>"
      ]
     },
     "metadata": {},
     "output_type": "display_data"
    }
   ],
   "source": [
    "from IPython.display import Image,display\n",
    "from langgraph.graph import StateGraph,START,END\n",
    "\n",
    "builder = StateGraph(State)\n",
    "\n",
    "builder.add_node(\"llm_tool\",llm_tool)\n",
    "\n",
    "builder.add_edge(START,\"llm_tool\")\n",
    "builder.add_edge(\"llm_tool\",END)\n",
    "\n",
    "graph = builder.compile()\n",
    "\n",
    "display(Image(graph.get_graph().draw_mermaid_png()))"
   ]
  },
  {
   "cell_type": "code",
   "execution_count": 25,
   "metadata": {},
   "outputs": [
    {
     "name": "stdout",
     "output_type": "stream",
     "text": [
      "================================\u001b[1m Human Message \u001b[0m=================================\n",
      "\n",
      "What is 2 plus 15\n",
      "==================================\u001b[1m Ai Message \u001b[0m==================================\n",
      "Tool Calls:\n",
      "  add (qc1a4vcc1)\n",
      " Call ID: qc1a4vcc1\n",
      "  Args:\n",
      "    a: 2\n",
      "    b: 15\n",
      "=================================\u001b[1m Tool Message \u001b[0m=================================\n",
      "Name: add\n",
      "\n",
      "17\n"
     ]
    }
   ],
   "source": [
    "## invocation\n",
    "\n",
    "messages = graph.invoke({\"messages\":\"What is 2 plus 15\"})\n",
    "\n",
    "for message in messages[\"messages\"]:\n",
    "    message.pretty_print()"
   ]
  },
  {
   "cell_type": "code",
   "execution_count": 26,
   "metadata": {},
   "outputs": [
    {
     "data": {
      "image/png": "[encoded data removed]",
      "text/plain": [
       "<IPython.core.display.Image object>"
      ]
     },
     "metadata": {},
     "output_type": "display_data"
    }
   ],
   "source": [
    "from langgraph.prebuilt import ToolNode,tools_condition\n",
    "\n",
    "tools = [add]\n",
    "builder = StateGraph(State)\n",
    "\n",
    "builder.add_node(\"llm_tool\",llm_tool)\n",
    "builder.add_node(\"tools\",ToolNode(tools))\n",
    "\n",
    "builder.add_edge(START,\"llm_tool\")\n",
    "builder.add_conditional_edges(\n",
    "    \"llm_tool\",\n",
    "    # if the latest message (result) from assistant is a tool call -> tools_condition routes to tools\n",
    "    # if the latest message (result) from assistant is not a tool call -> tools_condition routes to END\n",
    "    tools_condition\n",
    ")\n",
    "builder.add_edge(\"tools\",END)\n",
    "\n",
    "graph = builder.compile()\n",
    "\n",
    "display(Image(graph.get_graph().draw_mermaid_png()))"
   ]
  },
  {
   "cell_type": "code",
   "execution_count": 27,
   "metadata": {},
   "outputs": [
    {
     "name": "stdout",
     "output_type": "stream",
     "text": [
      "{'messages': [HumanMessage(content='What is 2 plus 15', additional_kwargs={}, response_metadata={}, id='cedcf714-5cef-4c77-a5d3-ec395e4ebaee'), AIMessage(content='', additional_kwargs={'tool_calls': [{'id': '06ynta59n', 'function': {'arguments': '{\"a\":2,\"b\":15}', 'name': 'add'}, 'type': 'function'}]}, response_metadata={'token_usage': {'completion_tokens': 87, 'prompt_tokens': 985, 'total_tokens': 1072, 'completion_time': 0.158181818, 'prompt_time': 0.107490681, 'queue_time': 0.46067696699999994, 'total_time': 0.265672499}, 'model_name': 'gemma2-9b-it', 'system_fingerprint': 'fp_10c08bf97d', 'finish_reason': 'tool_calls', 'logprobs': None}, id='run--28ab95d2-6fd7-4cd9-b041-371f20be4b4d-0', tool_calls=[{'name': 'add', 'args': {'a': 2, 'b': 15}, 'id': '06ynta59n', 'type': 'tool_call'}], usage_metadata={'input_tokens': 985, 'output_tokens': 87, 'total_tokens': 1072}), ToolMessage(content='17', name='add', id='167aaf87-29e3-4c7a-a34e-5843228b924d', tool_call_id='06ynta59n')]}\n",
      "================================\u001b[1m Human Message \u001b[0m=================================\n",
      "\n",
      "What is 2 plus 15\n",
      "==================================\u001b[1m Ai Message \u001b[0m==================================\n",
      "Tool Calls:\n",
      "  add (06ynta59n)\n",
      " Call ID: 06ynta59n\n",
      "  Args:\n",
      "    a: 2\n",
      "    b: 15\n",
      "=================================\u001b[1m Tool Message \u001b[0m=================================\n",
      "Name: add\n",
      "\n",
      "17\n"
     ]
    }
   ],
   "source": [
    "## invocation\n",
    "\n",
    "messages = graph.invoke({\"messages\":\"What is 2 plus 15\"})\n",
    "print(messages)\n",
    "\n",
    "for message in messages[\"messages\"]:\n",
    "    message.pretty_print()"
   ]
  },
  {
   "cell_type": "code",
   "execution_count": 41,
   "metadata": {},
   "outputs": [
    {
     "name": "stdout",
     "output_type": "stream",
     "text": [
      "{'messages': [HumanMessage(content='What is Generative AI', additional_kwargs={}, response_metadata={}, id='ebbc52f8-f663-48e1-a76e-bac60ccb346b'), AIMessage(content='Generative AI refers to a type of artificial intelligence that is capable of generating new, original content, such as images, videos, music, text, and more. This is achieved through complex algorithms and statistical models that allow the AI to learn patterns and relationships within a given dataset, and then use that knowledge to create new, unique outputs.\\n\\nGenerative AI has a wide range of applications, including:\\n\\n1. Art and design: Generative AI can be used to create original artwork, designs, and other creative content.\\n2. Music and audio: Generative AI can be used to create original music, sound effects, and other audio content.\\n3. Text and language: Generative AI can be used to generate original text, such as articles, stories, and dialogue.\\n4. Image and video: Generative AI can be used to generate original images and videos, such as special effects, animations, and more.\\n5. Data augmentation: Generative AI can be used to generate new data that can be used to augment existing datasets, improving the performance of machine learning models.\\n\\nSome common techniques used in generative AI include:\\n\\n1. Generative Adversarial Networks (GANs): This involves training two neural networks, one to generate new content and another to discriminate between real and generated content.\\n2. Variational Autoencoders (VAEs): This involves training a neural network to learn a probabilistic representation of a dataset, and then using that representation to generate new content.\\n3. Recurrent Neural Networks (RNNs): This involves training a neural network to learn patterns in sequential data, such as text or music, and then using that knowledge to generate new content.\\n\\nOverall, generative AI has the potential to revolutionize a wide range of industries and applications, from art and entertainment to healthcare and education.', additional_kwargs={}, response_metadata={'token_usage': {'completion_tokens': 366, 'prompt_tokens': 256, 'total_tokens': 622, 'completion_time': 1.330909091, 'prompt_time': 0.013092085, 'queue_time': 0.053148974, 'total_time': 1.344001176}, 'model_name': 'llama-3.3-70b-versatile', 'system_fingerprint': 'fp_3f3b593e33', 'finish_reason': 'stop', 'logprobs': None}, id='run--108c35d0-ff95-4458-93da-7ec084d00688-0', usage_metadata={'input_tokens': 256, 'output_tokens': 366, 'total_tokens': 622})]}\n",
      "================================\u001b[1m Human Message \u001b[0m=================================\n",
      "\n",
      "What is Generative AI\n",
      "==================================\u001b[1m Ai Message \u001b[0m==================================\n",
      "\n",
      "Generative AI refers to a type of artificial intelligence that is capable of generating new, original content, such as images, videos, music, text, and more. This is achieved through complex algorithms and statistical models that allow the AI to learn patterns and relationships within a given dataset, and then use that knowledge to create new, unique outputs.\n",
      "\n",
      "Generative AI has a wide range of applications, including:\n",
      "\n",
      "1. Art and design: Generative AI can be used to create original artwork, designs, and other creative content.\n",
      "2. Music and audio: Generative AI can be used to create original music, sound effects, and other audio content.\n",
      "3. Text and language: Generative AI can be used to generate original text, such as articles, stories, and dialogue.\n",
      "4. Image and video: Generative AI can be used to generate original images and videos, such as special effects, animations, and more.\n",
      "5. Data augmentation: Generative AI can be used to generate new data that can be used to augment existing datasets, improving the performance of machine learning models.\n",
      "\n",
      "Some common techniques used in generative AI include:\n",
      "\n",
      "1. Generative Adversarial Networks (GANs): This involves training two neural networks, one to generate new content and another to discriminate between real and generated content.\n",
      "2. Variational Autoencoders (VAEs): This involves training a neural network to learn a probabilistic representation of a dataset, and then using that representation to generate new content.\n",
      "3. Recurrent Neural Networks (RNNs): This involves training a neural network to learn patterns in sequential data, such as text or music, and then using that knowledge to generate new content.\n",
      "\n",
      "Overall, generative AI has the potential to revolutionize a wide range of industries and applications, from art and entertainment to healthcare and education.\n"
     ]
    }
   ],
   "source": [
    "## invocation\n",
    "\n",
    "messages = graph.invoke({\"messages\":\"What is Generative AI\"})\n",
    "print(messages)\n",
    "\n",
    "for message in messages[\"messages\"]:\n",
    "    message.pretty_print()"
   ]
  }
 ],
 "metadata": {
  "kernelspec": {
   "display_name": ".venv",
   "language": "python",
   "name": "python3"
  },
  "language_info": {
   "codemirror_mode": {
    "name": "ipython",
    "version": 3
   },
   "file_extension": ".py",
   "mimetype": "text/x-python",
   "name": "python",
   "nbconvert_exporter": "python",
   "pygments_lexer": "ipython3",
   "version": "3.13.3"
  }
 },
 "nbformat": 4,
 "nbformat_minor": 2
}
